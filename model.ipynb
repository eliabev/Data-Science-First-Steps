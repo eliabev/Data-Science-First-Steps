{
 "cells": [
  {
   "cell_type": "code",
   "execution_count": 5,
   "metadata": {},
   "outputs": [],
   "source": [
    "import random\n",
    "from typing import TypeVar, List, Tuple\n",
    "X = TypeVar('X')\n",
    "\n",
    "def split_data(data: List[X], prob: float) -> Tuple[List[X], List[X]]: # Dividir dados em frações [prob, 1 - prob]\n",
    "    data = data[:]\n",
    "    random.shuffle(data) # modificando a lista\n",
    "    cut = int(len(data) * prob) # encontrando limiar\n",
    "    return data[:cut], data[cut:] # dividindo a lista aleatória nesse ponto\n",
    "\n",
    "data = [n for n in range(1000)]\n",
    "train, test = split_data(data, 0.75)\n",
    "assert len(train) == 750\n",
    "assert len(test) == 250\n",
    "assert sorted(train + test) == data"
   ]
  },
  {
   "cell_type": "code",
   "execution_count": 6,
   "metadata": {},
   "outputs": [],
   "source": [
    "# Para o caso de haverem pares de variáveis de entrada e saída\n",
    "Y = TypeVar('Y')\n",
    "def train_test_split(xs: List[X], ys: List[Y], test_pct: float):\n",
    "    idxs = [i for i in range(len(xs))]\n",
    "    train_idxs, test_idxs = split_data(idxs, 1 - test_pct)\n",
    "    return ([xs[i] for i in train_idxs], # x_train\n",
    "            [xs[i] for i in test_idxs], # x_test\n",
    "            [ys[i] for i in train_idxs], # y_train\n",
    "            [ys[i] for i in test_idxs]) # y_test\n",
    "\n",
    "xs = [x for x in range(1000)]\n",
    "ys = [2 * x for x in xs]\n",
    "x_train, x_test, y_train, y_test = train_test_split(xs, ys, 0.25)\n",
    "assert len(x_train) == len(y_train) == 750\n",
    "assert len(x_test) == len(y_test) == 250\n",
    "assert all(y == 2 * x for x, y in zip(x_train, y_train))\n",
    "assert all(y == 2 * x for x, y in zip(x_test, y_test))"
   ]
  },
  {
   "attachments": {},
   "cell_type": "markdown",
   "metadata": {},
   "source": [
    "Depois disso, podemos fazer algo como:\n",
    "\n",
    "``` python\n",
    "model = SomeKindOfModel()\n",
    "\n",
    "x_train, x_test, y_train, y_test = train_test_split(xs, ys, 0.33) model.train(x_train, y_train)\n",
    "\n",
    "performance = model.test(x_test, y_test)\n",
    "```\n",
    "\n",
    "Se a performance for ruim, provavelmente houve sobreajuste dos dados."
   ]
  }
 ],
 "metadata": {
  "kernelspec": {
   "display_name": "base",
   "language": "python",
   "name": "python3"
  },
  "language_info": {
   "codemirror_mode": {
    "name": "ipython",
    "version": 3
   },
   "file_extension": ".py",
   "mimetype": "text/x-python",
   "name": "python",
   "nbconvert_exporter": "python",
   "pygments_lexer": "ipython3",
   "version": "3.9.7"
  },
  "orig_nbformat": 4,
  "vscode": {
   "interpreter": {
    "hash": "34f3fd2a417bcd25b0e8563e5ac81d51b9b0175dba08c24f9dd87bbc1cd0b030"
   }
  }
 },
 "nbformat": 4,
 "nbformat_minor": 2
}
